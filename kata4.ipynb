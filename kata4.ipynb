{
 "cells": [
  {
   "cell_type": "markdown",
   "metadata": {},
   "source": [
    "# Transfomar Cadenas\n",
    "\n",
    "Primero, divide el texto en cada oración para trabajar con su contenido:\n",
    "\n"
   ]
  },
  {
   "cell_type": "code",
   "execution_count": 9,
   "metadata": {},
   "outputs": [
    {
     "name": "stdout",
     "output_type": "stream",
     "text": [
      "['Interesting facts about the Moon', \"The Moon is Earth's only satellite\", 'There are several interesting facts about the Moon and how it affects life here on Earth', 'On average, the Moon moves 4cm away from the Earth every year', 'This yearly drift is not significant enough to cause immediate effects on Earth', 'The highest daylight temperature of the Moon is 127 C.']\n"
     ]
    }
   ],
   "source": [
    "text = \"\"\"Interesting facts about the Moon. The Moon is Earth's only satellite. There are several interesting facts about the Moon and how it affects life here on Earth. On average, the Moon moves 4cm away from the Earth every year. This yearly drift is not significant enough to cause immediate effects on Earth. The highest daylight temperature of the Moon is 127 C.\"\"\"\n",
    "\n",
    "\n",
    "frases = text.split('. ')\n",
    "print(frases) "
   ]
  },
  {
   "cell_type": "markdown",
   "metadata": {},
   "source": [
    "Ahora, define algunas palabras clave para búsqueda que te ayudarán a determinar si una oración contiene un hecho."
   ]
  },
  {
   "cell_type": "code",
   "execution_count": 10,
   "metadata": {},
   "outputs": [],
   "source": [
    "claves = [\"average\", \"temperature\", \"distance\"]"
   ]
  },
  {
   "cell_type": "markdown",
   "metadata": {},
   "source": [
    "Cre un bucle para imprimir solo datos sobre la Luna que estén relacionados con las palabras clave definidas anteriormente:"
   ]
  },
  {
   "cell_type": "code",
   "execution_count": 11,
   "metadata": {},
   "outputs": [
    {
     "name": "stdout",
     "output_type": "stream",
     "text": [
      "On average, the Moon moves 4cm away from the Earth every year\n",
      "The highest daylight temperature of the Moon is 127 C.\n"
     ]
    }
   ],
   "source": [
    "for oraciones in frases:\n",
    "    for clave in claves:\n",
    "        if clave in oraciones:\n",
    "            print(oraciones)\n",
    "            break\n"
   ]
  },
  {
   "cell_type": "markdown",
   "metadata": {},
   "source": [
    "Finalmente, actualiza el bucle(ciclo) para cambiar C a Celsius:"
   ]
  },
  {
   "cell_type": "code",
   "execution_count": 12,
   "metadata": {},
   "outputs": [
    {
     "name": "stdout",
     "output_type": "stream",
     "text": [
      "On average, the Moon moves 4cm away from the Earth every year\n",
      "The highest daylight temperature of the Moon is 127 Celsius.\n"
     ]
    }
   ],
   "source": [
    "for oraciones in frases:\n",
    "    for clave in claves:\n",
    "        if clave in oraciones:\n",
    "            oracion_remplazada =  oraciones.replace('C', 'Celsius')\n",
    "            print(oracion_remplazada)\n",
    "            break"
   ]
  },
  {
   "cell_type": "markdown",
   "metadata": {},
   "source": [
    "# Formateando Cadenas\n",
    "El formato tiene que acomodar información sobre otras lunas, por lo que debe ser genérico.\n",
    "\n",
    "En lugar de reemplazar las variables en una cadena larga como parte de un párrafo, utiliza la información para presentarla en un formato tabular. El resultado debería verse así:\n",
    "\n",
    "Gravity Facts about Ganymede\n",
    "-------------------------------------------------------------------------------\n",
    "Planet Name: Mars\n",
    "Gravity on Ganymede: 1.4300000000000002 m/s2"
   ]
  },
  {
   "cell_type": "code",
   "execution_count": 13,
   "metadata": {},
   "outputs": [],
   "source": [
    "# Datos con los que vas a trabajar\n",
    "name = \"Moon\"\n",
    "gravity = 0.00162 # in kms\n",
    "planet = \"Earth\""
   ]
  },
  {
   "cell_type": "markdown",
   "metadata": {},
   "source": [
    "Primero, crea un título para el texto. Debido a que este texto trata sobre la gravedad en la Tierra y la Luna, úsalo para crear un título significativo. Utiliza las variables en lugar de escribir."
   ]
  },
  {
   "cell_type": "code",
   "execution_count": 27,
   "metadata": {},
   "outputs": [
    {
     "name": "stdout",
     "output_type": "stream",
     "text": [
      "Datos sobre la gravedad de Moon\n"
     ]
    }
   ],
   "source": [
    "title = f'Datos sobre la gravedad de {name}'\n",
    "print(title)"
   ]
  },
  {
   "cell_type": "markdown",
   "metadata": {},
   "source": [
    "Ahora crea una plantilla de cadena multilínea para contener el resto de la información. En lugar de usar kilómetros, debes convertir la distancia a metros multiplicando por 1,000."
   ]
  },
  {
   "cell_type": "code",
   "execution_count": 32,
   "metadata": {},
   "outputs": [
    {
     "name": "stdout",
     "output_type": "stream",
     "text": [
      "--------------------------------------------------------------------------------\n",
      "nombre del planeta:Marte \n",
      "gravedad en Ganímedes: 1.4300000000000002 m/s^2 \n"
     ]
    }
   ],
   "source": [
    "data =  f\"\"\"{'-'*80}\n",
    "nombre del planeta:{planet}\n",
    "gravedad en {name}: {gravity*1000} m/s^2 \"\"\"\n",
    "\n",
    "print(data)"
   ]
  },
  {
   "cell_type": "markdown",
   "metadata": {},
   "source": [
    "Finalmente, usa ambas variables para unir el título y los hechos.\n",
    "\n"
   ]
  },
  {
   "cell_type": "code",
   "execution_count": 31,
   "metadata": {},
   "outputs": [
    {
     "name": "stdout",
     "output_type": "stream",
     "text": [
      "Datos Sobre La Gravedad De Moon\n",
      "--------------------------------------------------------------------------------\n",
      "nombre del planeta:Moon\n",
      "gravedad en Moon: 1.6199999999999999 m/s^2 \n"
     ]
    }
   ],
   "source": [
    "template = f\"\"\"{title.title()}\n",
    "{data}\"\"\"\n",
    "print(template)"
   ]
  },
  {
   "cell_type": "markdown",
   "metadata": {},
   "source": [
    "Ahora usa información de una luna diferente para ver si la plantilla todavía funciona."
   ]
  },
  {
   "cell_type": "code",
   "execution_count": 43,
   "metadata": {},
   "outputs": [
    {
     "name": "stdout",
     "output_type": "stream",
     "text": [
      "Datos Sobre La Gravedad De Moon\n",
      "--------------------------------------------------------------------------------\n",
      "nombre del planeta:Moon\n",
      "gravedad en Moon: 1.6199999999999999 m/s^2 \n"
     ]
    }
   ],
   "source": [
    "planet = 'Marte '\n",
    "gravity  = 0.00143\n",
    "name = 'Ganímedes'\n",
    "\n",
    "print(template)"
   ]
  },
  {
   "cell_type": "markdown",
   "metadata": {},
   "source": [
    "La salida no muestra información sobre Marte. Todavía muestra información sobre la Luna. Esto sucede porque las cadenas f están ansiosas en su evaluación, por lo que las variables una vez asignadas no se pueden reasignar. Para evitar este problema, vuelva a hacer la plantilla para utilizar .format():"
   ]
  },
  {
   "cell_type": "code",
   "execution_count": 46,
   "metadata": {},
   "outputs": [
    {
     "name": "stdout",
     "output_type": "stream",
     "text": [
      "Datos sobre la gravedad de Ganímedes\n",
      "--------------------------------------------------------------------------------\n",
      "nombre del planeta:Marte \n",
      "gravedad en Ganímedes: 1.4300000000000002 m/s^2 \n"
     ]
    }
   ],
   "source": [
    "\n",
    "new_template = f\"\"\"Datos sobre la gravedad de {name}\n",
    "{'-'*80}\n",
    "nombre del planeta:{planet}\n",
    "gravedad en {name}: {gravity*1000} m/s^2 \"\"\"\n",
    "print(new_template.format(name=name, planet=planet, gravity=gravity))"
   ]
  }
 ],
 "metadata": {
  "interpreter": {
   "hash": "221824e828e850b004d00d0aecd4755a4e7e5a3291c9ef5a3b3b8c3c8461644c"
  },
  "kernelspec": {
   "display_name": "Python 3.7.6 64-bit",
   "language": "python",
   "name": "python3"
  },
  "language_info": {
   "codemirror_mode": {
    "name": "ipython",
    "version": 3
   },
   "file_extension": ".py",
   "mimetype": "text/x-python",
   "name": "python",
   "nbconvert_exporter": "python",
   "pygments_lexer": "ipython3",
   "version": "3.7.6"
  },
  "orig_nbformat": 4
 },
 "nbformat": 4,
 "nbformat_minor": 2
}
