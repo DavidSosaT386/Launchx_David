{
 "cells": [
  {
   "cell_type": "markdown",
   "metadata": {},
   "source": [
    "# operaciones aritmeticas\n",
    "Exploremos cómo podemos crear un programa que pueda calcular la distancia entre dos planetas. Comenzaremos usando dos distancias de planetas: Tierra (149.597.870 km) y Júpiter (778.547.200 km)."
   ]
  },
  {
   "cell_type": "code",
   "execution_count": 19,
   "metadata": {},
   "outputs": [
    {
     "name": "stdout",
     "output_type": "stream",
     "text": [
      "la distancia entre la Tierra y jupiter es de:  628949330 KM\n"
     ]
    }
   ],
   "source": [
    "planeta1=149597870\n",
    "planeta2=778547200 \n",
    "\n",
    "\n",
    "if planeta1 > planeta2:\n",
    "    distancia = planeta1-planeta2\n",
    "elif planeta2 > planeta1:\n",
    "    distancia = planeta2-planeta1    \n",
    "print(\"la distancia entre la Tierra y jupiter es de: \",distancia,\"KM\")    \n",
    "\n",
    "#628949330"
   ]
  },
  {
   "cell_type": "markdown",
   "metadata": {},
   "source": [
    "Con los valores obtenidos, es el momento de añadir el código para realizar la operación. Restarás el primer planeta del segundo para determinar la distancia en kilómetros. A continuación, puedes convertir la distancia del kilómetro en millas multiplicándola por 1.609344."
   ]
  },
  {
   "cell_type": "code",
   "execution_count": 21,
   "metadata": {},
   "outputs": [
    {
     "name": "stdout",
     "output_type": "stream",
     "text": [
      "la distancia entre la tierra y jupiter en millas es de:  1012195830.53952\n"
     ]
    }
   ],
   "source": [
    "millas = distancia * 1.609344\n",
    "\n",
    "print(\"la distancia entre la tierra y jupiter en millas es de: \",millas)"
   ]
  },
  {
   "cell_type": "markdown",
   "metadata": {},
   "source": [
    "# convierte cadenas en números y usa valores absolutos\n",
    "Para crear nuestra aplicación, queremos leer la distancia del sol para dos planetas, y luego mostrar la distancia entre los planetas. Haremos esto usando input para leer los valores, int para convertir a entero y luego abs para convertir el resultado en su valor absoluto.\n",
    "\n",
    "\n"
   ]
  },
  {
   "cell_type": "code",
   "execution_count": 17,
   "metadata": {},
   "outputs": [
    {
     "name": "stdout",
     "output_type": "stream",
     "text": [
      "la distancia entre los dos planetas es: 2764300000 km\n"
     ]
    }
   ],
   "source": [
    "#prueba, distancia de urano a venus\n",
    "#urano 2872500000\n",
    "#Venus\t108200000\n",
    "\n",
    "planet1= input('ingresa la distancia del primer planeta respecto al sol(KM)')\n",
    "planet2= input('ingresa la distancia del segundo planeta respecto al sol(KM)')\n",
    "\n",
    "planet1= int(planet1)\n",
    "planet2= int(planet2)\n",
    "\n",
    "\n",
    "distancia = planet2-planet1\n",
    "distancia =  abs(distancia)    \n",
    "print(\"la distancia entre los dos planetas es:\",distancia,\"km\")    \n"
   ]
  },
  {
   "cell_type": "markdown",
   "metadata": {},
   "source": [
    "Convertir a millas\n"
   ]
  },
  {
   "cell_type": "code",
   "execution_count": 18,
   "metadata": {},
   "outputs": [
    {
     "name": "stdout",
     "output_type": "stream",
     "text": [
      "la distancia en millas entre los 2 planetas es: 4448709619.200001\n"
     ]
    }
   ],
   "source": [
    "millas = distancia *  1.609344\n",
    "\n",
    "print(\"la distancia en millas entre los 2 planetas es:\",millas)"
   ]
  }
 ],
 "metadata": {
  "interpreter": {
   "hash": "221824e828e850b004d00d0aecd4755a4e7e5a3291c9ef5a3b3b8c3c8461644c"
  },
  "kernelspec": {
   "display_name": "Python 3.7.6 64-bit",
   "language": "python",
   "name": "python3"
  },
  "language_info": {
   "codemirror_mode": {
    "name": "ipython",
    "version": 3
   },
   "file_extension": ".py",
   "mimetype": "text/x-python",
   "name": "python",
   "nbconvert_exporter": "python",
   "pygments_lexer": "ipython3",
   "version": "3.7.6"
  },
  "orig_nbformat": 4
 },
 "nbformat": 4,
 "nbformat_minor": 2
}
